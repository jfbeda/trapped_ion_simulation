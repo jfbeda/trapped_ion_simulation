{
 "cells": [
  {
   "cell_type": "markdown",
   "id": "a2f99080",
   "metadata": {},
   "source": [
    "# Example Notebook 2: A Simple Quench Series\n",
    "Here we provie a minimal working example of running a series of quenches to different isotropies using parralelized computation. Running this entire notebook on my machine takes about 2 minutes of computation time."
   ]
  },
  {
   "cell_type": "code",
   "execution_count": 2,
   "id": "e3d02c11",
   "metadata": {},
   "outputs": [],
   "source": [
    "import numpy as np\n",
    "from simulation_module import SimulationConfig, SimulationState, SimulationRunner, SimulationIO, SimulationVisualizer, AnimationMaker\n",
    "from laser import Laser\n",
    "import parralel\n",
    "from time import time\n",
    "import os"
   ]
  },
  {
   "cell_type": "code",
   "execution_count": 3,
   "id": "7916cbb0",
   "metadata": {},
   "outputs": [],
   "source": [
    "# Initialize a 650 nm laser object\n",
    "laser650 = laser650 = Laser(650, [1,0], saturation = 10, detuning = -2 * np.pi * 20 / 2, Gamma = 2 * np.pi * 20)"
   ]
  },
  {
   "cell_type": "code",
   "execution_count": 4,
   "id": "c4baa492",
   "metadata": {},
   "outputs": [],
   "source": [
    "\"\"\"\n",
    "First we must initialize a simulation configuration. We're also going to check to see if we already have an initial\n",
    "positions file associated with the desired value of N and gamma.\n",
    "\"\"\"\n",
    "\n",
    "N = 6 # The number of particles\n",
    "initial_gamma = 1 # The initial isotropy of interest\n",
    "\n",
    "# Check that we already have an initial positions file associated with that value of N and gamma\n",
    "# If not, you need to generate a stable configuration by using something like SimulationState().minimize_energy() and SimulationState().minimize_forces()\n",
    "filename = f\"{N}_{initial_gamma}_positions_1.json\"\n",
    "assert os.path.exists(filename), f\"File '{filename}' not found. You need to generate a starting configuration for that value of N, it seems like you don't have one. Try N = 6, gamma = 1 for example.\"\n",
    "\n",
    "# Configure our simulation object with 6 ions, and gamma = 1.\n",
    "config = SimulationConfig(\n",
    "    N = N,                        # number of ions\n",
    "    w = 1.0,                      # frequency in the trap harmonic potential\n",
    "    g = initial_gamma,            # isotropy factor\n",
    "    m = 137.327,                  # mass in atomic units\n",
    "    T_mK = 0,                     # temperature in mK\n",
    "    dt = 10**-3,                  # timestep\n",
    "    num_steps = int(10**5),     # number of simulation steps\n",
    "    damping = False,              # damping is turned off for now\n",
    "    damping_parameter = 1.0,      # since damping is turned off, the strength of the damping parameter is not relevant\n",
    "    langevin_temperature = False, # langevin_temperature is turned off for now (no random motion)\n",
    "    lasers=[laser650]             # we only have one laser in the simulation, that is the 650 nm laser\n",
    ")"
   ]
  },
  {
   "cell_type": "code",
   "execution_count": 5,
   "id": "ab497605",
   "metadata": {},
   "outputs": [],
   "source": [
    "# We can save a short textfile that includes the simulation parameters \n",
    "config.save_shortform() # By default the filename will be \"simulation_details.txt\""
   ]
  },
  {
   "cell_type": "code",
   "execution_count": 6,
   "id": "2ef0a8fa",
   "metadata": {},
   "outputs": [],
   "source": [
    "\"\"\"\n",
    "Now we'll make a bunch of folders to store the outputs of our quench simulations\n",
    "\"\"\"\n",
    "\n",
    "quench_trajectory_folder = \"quench_folder\"\n",
    "animation_folder = \"animation_folder\"\n",
    "animation_output = \"animation_output\"\n",
    "temperature_folder = \"temperature_folder\"\n",
    "rolling_average_output = \"rolling_average_output\"\n",
    "\n",
    "# Make sure folders exist\n",
    "os.makedirs(quench_trajectory_folder, exist_ok = True)\n",
    "os.makedirs(animation_folder, exist_ok = True)\n",
    "os.makedirs(animation_output, exist_ok = True)\n",
    "os.makedirs(temperature_folder, exist_ok = True)\n",
    "os.makedirs(rolling_average_output, exist_ok = True)"
   ]
  },
  {
   "cell_type": "markdown",
   "id": "b937d5ef",
   "metadata": {},
   "source": [
    "## Running a series of quenches\n",
    "Now we're all set to run a series of quenches. Each quench will have a different value of gamma, we will change the simulation value of gamma, then run the simulation, and then save the trajectory to file. Later on, we can load these trajectories back into the system to produce density plots and animations and other things, but first we must run all the simulations.\n",
    "\n",
    "NOTE: you should take a look at how many cores your computer has. Mine has 8, and so I can safely run num_workers = 7 in the cell below, if however you have many fewer cores, this may really stall your computer"
   ]
  },
  {
   "cell_type": "code",
   "execution_count": 7,
   "id": "745d5724",
   "metadata": {},
   "outputs": [
    {
     "name": "stdout",
     "output_type": "stream",
     "text": [
      "This may take a while! (About 45 seconds) on my machine\n",
      "Beginning to parralel quench\n",
      "Running gamma = 0.88333333\n",
      "Running with isotropy (γ) = 0.8833 for 100.0 μs\n",
      "Running gamma = 0.83333333\n",
      "Running with isotropy (γ) = 0.8333 for 100.0 μs\n",
      "Running gamma = 0.80000000\n",
      "Running with isotropy (γ) = 0.8000 for 100.0 μs\n",
      "Running gamma = 0.86666667\n",
      "Running with isotropy (γ) = 0.8667 for 100.0 μs\n",
      "Running gamma = 0.78333333\n",
      "Running with isotropy (γ) = 0.7833 for 100.0 μs\n",
      "Running gamma = 0.90000000\n",
      "Running with isotropy (γ) = 0.9000 for 100.0 μs\n",
      "Running gamma = 0.75000000\n",
      "Running with isotropy (γ) = 0.7500 for 100.0 μs\n",
      "Running gamma = 0.85000000\n",
      "Running with isotropy (γ) = 0.8500 for 100.0 μs\n",
      "Running gamma = 0.76666667\n",
      "Running with isotropy (γ) = 0.7667 for 100.0 μs\n",
      "Running gamma = 0.81666667\n",
      "Running with isotropy (γ) = 0.8167 for 100.0 μs\n",
      "All quench simulations completed.\n",
      "Time taken to quench = 37.002 s\n"
     ]
    }
   ],
   "source": [
    "num_quenches = 10 # Number of quenches to be run\n",
    "num_workers = 7 # This is the number of separate cores on your computer you wish to use in parralel for the computation, for me, 7 is about right, but your machine may have fewer cores\n",
    "g_start = 0.9 # First value of gamma we will quench to\n",
    "g_end = 0.75 # Last value of gamma we will quench to\n",
    "\n",
    "# Now we can run the quenches!\n",
    "print(\"This may take a while! (About 45 seconds) on my machine\")\n",
    "start = time()\n",
    "parralel.run_quench_series(\n",
    "    config = config,\n",
    "    loadfile = f\"{N}_{config.g}_positions_1.json\",\n",
    "    output_dir = quench_trajectory_folder,\n",
    "    g_start = g_start,\n",
    "    g_end = g_end,\n",
    "    g_step = num_quenches,\n",
    "    num_workers = num_workers\n",
    ")    \n",
    "print(f\"Time taken to quench = {time()-start:.3f} s\")"
   ]
  },
  {
   "cell_type": "markdown",
   "id": "09eadb09",
   "metadata": {},
   "source": [
    "## Generating ion density maps from presaved trajectories\n",
    "Now we can load the trajectory files back in, and generate ion density maps for them"
   ]
  },
  {
   "cell_type": "code",
   "execution_count": 8,
   "id": "c3de709d",
   "metadata": {},
   "outputs": [
    {
     "name": "stdout",
     "output_type": "stream",
     "text": [
      "This may take a while! (About 16 seconds) on my machine\n",
      "Beginning to parralel process trajectory files\n",
      "Processing quench_folder/6_0.81666666666667_traj_100000_steps.json\n",
      "Processing quench_folder/6_0.90000000000000_traj_100000_steps.json\n",
      "Processing quench_folder/6_0.88333333333333_traj_100000_steps.json\n",
      "Processing quench_folder/6_0.80000000000000_traj_100000_steps.json\n",
      "Processing quench_folder/6_0.83333333333333_traj_100000_steps.json\n",
      "Processing quench_folder/6_0.76666666666667_traj_100000_steps.json\n",
      "Processing quench_folder/6_0.86666666666667_traj_100000_steps.json\n",
      "Processing quench_folder/6_0.78333333333333_traj_100000_steps.json\n",
      "Processing quench_folder/6_0.85000000000000_traj_100000_steps.json\n",
      "Processing quench_folder/6_0.75000000000000_traj_100000_steps.json\n",
      "Done!\n",
      "Time taken to process images = 11.184 s\n"
     ]
    }
   ],
   "source": [
    "print(\"This may take a while! (About 16 seconds) on my machine\")\n",
    "start = time()\n",
    "parralel.generate_density_map_images_from_quench_folder(quench_trajectory_folder, \n",
    "                                                        animation_folder, \n",
    "                                                        config, \n",
    "                                                        num_workers = num_workers,\n",
    "                                                       square = False,\n",
    "                                                       extension = \"png\")\n",
    "print(f\"Time taken to process images = {time()-start:.3f} s\")"
   ]
  },
  {
   "cell_type": "markdown",
   "id": "fb9fa186",
   "metadata": {},
   "source": [
    "## Generating animations from presaved ion density images\n",
    "With the ion density images created, we can generate an animation of them"
   ]
  },
  {
   "cell_type": "code",
   "execution_count": 9,
   "id": "cca803a8",
   "metadata": {},
   "outputs": [
    {
     "name": "stderr",
     "output_type": "stream",
     "text": [
      "IMAGEIO FFMPEG_WRITER WARNING: input image is not divisible by macro_block_size=16, resizing from (600, 600) to (608, 608) to ensure video compatibility with most codecs and players. To prevent resizing, make your input image divisible by the macro_block_size or set the macro_block_size to 1 (risking incompatibility).\n"
     ]
    },
    {
     "name": "stdout",
     "output_type": "stream",
     "text": [
      "This may take a while! (About 2 seconds) on my machine\n",
      "MP4 saved via imageio: animation_output/ion_density_animation_100us.mp4\n",
      "Time taken to make animation = 0.329 s\n"
     ]
    }
   ],
   "source": [
    "print(\"This may take a while! (About 2 seconds) on my machine\")\n",
    "start = time()\n",
    "AnimationMaker.make_gif_or_mp4_from_images(animation_folder, f\"{animation_output}/ion_density_animation_{int(config.num_steps * config.dt)}us.mp4\", fps=6, reverse = False)\n",
    "print(f\"Time taken to make animation = {time()-start:.3f} s\")"
   ]
  },
  {
   "cell_type": "markdown",
   "id": "5c3284d0",
   "metadata": {},
   "source": [
    "## Generating temperature plots\n",
    "It is often useful to look at the temperature of each simulation over time. Similar to with ion density maps, we can load all of the trajectory files back into the system, compute the average velocity over time (as a proxy for temperature) and plot this over time. Then after creating many such images, we can animate the result"
   ]
  },
  {
   "cell_type": "code",
   "execution_count": 10,
   "id": "4675844f",
   "metadata": {},
   "outputs": [
    {
     "name": "stdout",
     "output_type": "stream",
     "text": [
      "This may take a while! (About 16 seconds) on my machine\n",
      "🔁 Beginning parallel temperature plot generation\n",
      "Generating temperature plot for quench_folder/6_0.88333333333333_traj_100000_steps.json\n",
      "Generating temperature plot for quench_folder/6_0.86666666666667_traj_100000_steps.json\n",
      "Generating temperature plot for quench_folder/6_0.81666666666667_traj_100000_steps.json\n",
      "Generating temperature plot for quench_folder/6_0.80000000000000_traj_100000_steps.json\n",
      "Generating temperature plot for quench_folder/6_0.90000000000000_traj_100000_steps.json\n",
      "Generating temperature plot for quench_folder/6_0.78333333333333_traj_100000_steps.json\n",
      "Generating temperature plot for quench_folder/6_0.83333333333333_traj_100000_steps.json\n",
      "Generating temperature plot for quench_folder/6_0.76666666666667_traj_100000_steps.json\n",
      "Generating temperature plot for quench_folder/6_0.85000000000000_traj_100000_steps.json\n",
      "Generating temperature plot for quench_folder/6_0.75000000000000_traj_100000_steps.json\n",
      "✅ All temperature plots generated.\n",
      "Time taken to make temperature plots 9.77151 s\n"
     ]
    }
   ],
   "source": [
    "# Generate temperature plots\n",
    "\n",
    "print(\"This may take a while! (About 16 seconds) on my machine\")\n",
    "start = time()\n",
    "parralel.generate_temperature_plots_from_quench_folder(quench_trajectory_folder,\n",
    "                                                       temperature_folder,\n",
    "                                                       config, \n",
    "                                                       grainyness=100,\n",
    "                                                       num_workers=num_workers,\n",
    "                                                       extension = \"png\"\n",
    "                                                       )\n",
    "print(f\"Time taken to make temperature plots {time()-start:.5f} s\")"
   ]
  },
  {
   "cell_type": "code",
   "execution_count": 11,
   "id": "c8c980b0",
   "metadata": {},
   "outputs": [
    {
     "name": "stdout",
     "output_type": "stream",
     "text": [
      "This may take a while! (About 2 seconds) on my machine\n",
      "MP4 saved via imageio: animation_output/temperature_animation_100us.mp4\n",
      "Time taken to make temperature animation = 0.345 s\n"
     ]
    }
   ],
   "source": [
    "# Animate temperature plots\n",
    "print(\"This may take a while! (About 2 seconds) on my machine\")\n",
    "start = time()\n",
    "AnimationMaker.make_gif_or_mp4_from_images(temperature_folder, f\"{animation_output}/temperature_animation_{int(config.num_steps * config.dt)}us.mp4\", fps=6, reverse = True)\n",
    "print(f\"Time taken to make temperature animation = {time()-start:.3f} s\")"
   ]
  },
  {
   "cell_type": "markdown",
   "id": "a85201e2",
   "metadata": {},
   "source": [
    "## Generating rolling average density maps \n",
    "For the length of simulation we have run above, this is a little contrived, but it may be useful to generate rolling average density plots instead of simply one large density plots, here we do that"
   ]
  },
  {
   "cell_type": "code",
   "execution_count": 12,
   "id": "4ee3874f",
   "metadata": {},
   "outputs": [
    {
     "name": "stdout",
     "output_type": "stream",
     "text": [
      "This may take a while! (About 16 seconds) on my machine\n",
      "🔁 Beginning parallel rolling-average density map generation\n",
      "Saved rolling_average_output/6_0.86666666666667_traj_100000_steps/rolling_frame_002_window_000_gamma_0.866667.png\n",
      "Saved rolling_average_output/6_0.86666666666667_traj_100000_steps/rolling_frame_002_window_001_gamma_0.866667.png\n",
      "Saved rolling_average_output/6_0.86666666666667_traj_100000_steps/rolling_frame_002_window_002_gamma_0.866667.png\n",
      "Saved full density map: rolling_average_output/6_0.86666666666667_traj_100000_steps/rolling_frame_002_FULL_gamma_0.866667.png\n",
      "Saved rolling_average_output/6_0.88333333333333_traj_100000_steps/rolling_frame_001_window_000_gamma_0.883333.png\n",
      "Saved rolling_average_output/6_0.88333333333333_traj_100000_steps/rolling_frame_001_window_001_gamma_0.883333.png\n",
      "Saved rolling_average_output/6_0.88333333333333_traj_100000_steps/rolling_frame_001_window_002_gamma_0.883333.png\n",
      "Saved full density map: rolling_average_output/6_0.88333333333333_traj_100000_steps/rolling_frame_001_FULL_gamma_0.883333.png\n",
      "Saved rolling_average_output/6_0.81666666666667_traj_100000_steps/rolling_frame_005_window_000_gamma_0.816667.png\n",
      "Saved rolling_average_output/6_0.81666666666667_traj_100000_steps/rolling_frame_005_window_001_gamma_0.816667.png\n",
      "Saved rolling_average_output/6_0.81666666666667_traj_100000_steps/rolling_frame_005_window_002_gamma_0.816667.png\n",
      "Saved full density map: rolling_average_output/6_0.81666666666667_traj_100000_steps/rolling_frame_005_FULL_gamma_0.816667.png\n",
      "Saved rolling_average_output/6_0.80000000000000_traj_100000_steps/rolling_frame_006_window_000_gamma_0.800000.png\n",
      "Saved rolling_average_output/6_0.80000000000000_traj_100000_steps/rolling_frame_006_window_001_gamma_0.800000.png\n",
      "Saved rolling_average_output/6_0.80000000000000_traj_100000_steps/rolling_frame_006_window_002_gamma_0.800000.png\n",
      "Saved full density map: rolling_average_output/6_0.80000000000000_traj_100000_steps/rolling_frame_006_FULL_gamma_0.800000.png\n",
      "Saved rolling_average_output/6_0.83333333333333_traj_100000_steps/rolling_frame_004_window_000_gamma_0.833333.png\n",
      "Saved rolling_average_output/6_0.83333333333333_traj_100000_steps/rolling_frame_004_window_001_gamma_0.833333.png\n",
      "Saved rolling_average_output/6_0.83333333333333_traj_100000_steps/rolling_frame_004_window_002_gamma_0.833333.png\n",
      "Saved full density map: rolling_average_output/6_0.83333333333333_traj_100000_steps/rolling_frame_004_FULL_gamma_0.833333.png\n",
      "Saved rolling_average_output/6_0.76666666666667_traj_100000_steps/rolling_frame_008_window_000_gamma_0.766667.png\n",
      "Saved rolling_average_output/6_0.76666666666667_traj_100000_steps/rolling_frame_008_window_001_gamma_0.766667.png\n",
      "Saved rolling_average_output/6_0.76666666666667_traj_100000_steps/rolling_frame_008_window_002_gamma_0.766667.png\n",
      "Saved full density map: rolling_average_output/6_0.76666666666667_traj_100000_steps/rolling_frame_008_FULL_gamma_0.766667.png\n",
      "Saved rolling_average_output/6_0.90000000000000_traj_100000_steps/rolling_frame_000_window_000_gamma_0.900000.png\n",
      "Saved rolling_average_output/6_0.90000000000000_traj_100000_steps/rolling_frame_000_window_001_gamma_0.900000.png\n",
      "Saved rolling_average_output/6_0.90000000000000_traj_100000_steps/rolling_frame_000_window_002_gamma_0.900000.png\n",
      "Saved full density map: rolling_average_output/6_0.90000000000000_traj_100000_steps/rolling_frame_000_FULL_gamma_0.900000.png\n",
      "Saved rolling_average_output/6_0.78333333333333_traj_100000_steps/rolling_frame_007_window_000_gamma_0.783333.png\n",
      "Saved rolling_average_output/6_0.78333333333333_traj_100000_steps/rolling_frame_007_window_001_gamma_0.783333.png\n",
      "Saved rolling_average_output/6_0.78333333333333_traj_100000_steps/rolling_frame_007_window_002_gamma_0.783333.png\n",
      "Saved full density map: rolling_average_output/6_0.78333333333333_traj_100000_steps/rolling_frame_007_FULL_gamma_0.783333.png\n",
      "Saved rolling_average_output/6_0.85000000000000_traj_100000_steps/rolling_frame_003_window_000_gamma_0.850000.png\n",
      "Saved rolling_average_output/6_0.85000000000000_traj_100000_steps/rolling_frame_003_window_001_gamma_0.850000.png\n",
      "Saved rolling_average_output/6_0.85000000000000_traj_100000_steps/rolling_frame_003_window_002_gamma_0.850000.png\n",
      "Saved full density map: rolling_average_output/6_0.85000000000000_traj_100000_steps/rolling_frame_003_FULL_gamma_0.850000.png\n",
      "Saved rolling_average_output/6_0.75000000000000_traj_100000_steps/rolling_frame_009_window_000_gamma_0.750000.png\n",
      "Saved rolling_average_output/6_0.75000000000000_traj_100000_steps/rolling_frame_009_window_001_gamma_0.750000.png\n",
      "Saved rolling_average_output/6_0.75000000000000_traj_100000_steps/rolling_frame_009_window_002_gamma_0.750000.png\n",
      "Saved full density map: rolling_average_output/6_0.75000000000000_traj_100000_steps/rolling_frame_009_FULL_gamma_0.750000.png\n",
      "✅ All rolling-average density maps generated.\n",
      "Time taken to generate rolling images = 11.307 s\n"
     ]
    }
   ],
   "source": [
    "print(\"This may take a while! (About 16 seconds) on my machine\")\n",
    "\n",
    "start = time()\n",
    "parralel.generate_rolling_average_density_map_images_from_quench_folder(\n",
    "    traj_folder = quench_trajectory_folder,\n",
    "    output_dir = rolling_average_output,\n",
    "    base_config = config,\n",
    "    time_per_image = 33, # Number of microseconds of simulation per image generated\n",
    "    overlapping_time = 0, # Number of microseconds of overlap of images\n",
    "    full_histogram = True, # This controls whether or not it also generates a full histogram of the trajectory\n",
    "    animate = False, # by turning this on you can generate an animation\n",
    "    num_workers = num_workers,\n",
    "    extension = \"png\"\n",
    "    )\n",
    "print(f\"Time taken to generate rolling images = {time()-start:.3f} s\")"
   ]
  },
  {
   "cell_type": "markdown",
   "id": "35cbe15e",
   "metadata": {},
   "source": [
    "## Deleting output folders to restart\n",
    "You may find it useful to uncomment and use the below script to quickly delete the output files so that you can run the simulation again with new parameters"
   ]
  },
  {
   "cell_type": "code",
   "execution_count": 13,
   "id": "1e0f999b",
   "metadata": {},
   "outputs": [
    {
     "name": "stdout",
     "output_type": "stream",
     "text": [
      "Deleted folder: quench_folder\n",
      "Deleted folder: animation_folder\n",
      "Deleted folder: animation_output\n",
      "Deleted folder: temperature_folder\n",
      "Deleted folder: rolling_average_output\n"
     ]
    }
   ],
   "source": [
    "# import shutil\n",
    "\n",
    "# # List of folder names to remove\n",
    "# folders_to_delete = [quench_trajectory_folder, animation_folder, animation_output, temperature_folder, rolling_average_output]  \n",
    "\n",
    "# # Delete the listed folders\n",
    "# for folder in folders_to_delete:\n",
    "#     if os.path.exists(folder) and os.path.isdir(folder):\n",
    "#         shutil.rmtree(folder)\n",
    "#         print(f\"Deleted folder: {folder}\")\n",
    "#     else:\n",
    "#         print(f\"Folder not found or not a directory: {folder}\")"
   ]
  },
  {
   "cell_type": "code",
   "execution_count": null,
   "id": "a55431de",
   "metadata": {},
   "outputs": [],
   "source": []
  }
 ],
 "metadata": {
  "kernelspec": {
   "display_name": "Python 3 (ipykernel)",
   "language": "python",
   "name": "python3"
  },
  "language_info": {
   "codemirror_mode": {
    "name": "ipython",
    "version": 3
   },
   "file_extension": ".py",
   "mimetype": "text/x-python",
   "name": "python",
   "nbconvert_exporter": "python",
   "pygments_lexer": "ipython3",
   "version": "3.9.21"
  }
 },
 "nbformat": 4,
 "nbformat_minor": 5
}
