{
 "cells": [
  {
   "cell_type": "code",
   "execution_count": 16,
   "id": "7d766f86",
   "metadata": {},
   "outputs": [
    {
     "name": "stdout",
     "output_type": "stream",
     "text": [
      "Total number of simulated timesteps per worker = 0.014 million steps per worker. Expected time = 1.371 s\n"
     ]
    }
   ],
   "source": [
    "import os\n",
    "import numpy as np\n",
    "from simulation_module import SimulationConfig, SimulationState, SimulationRunner, SimulationIO, SimulationVisualizer, AnimationMaker\n",
    "from laser import Laser\n",
    "import parralel\n",
    "from time import time\n",
    "from parralel_workers import process_single_rolling_average_density_map\n",
    "from dataclasses import asdict #(for asdict)\n",
    "start0 = time()\n",
    "\n",
    "laser650 = laser650 = Laser(650, [1,0], saturation = 10, detuning = -2 * np.pi * 20 / 2, Gamma = 2 * np.pi * 20)\n",
    "\n",
    "dt_exponent = -3\n",
    "num_steps_exponent = 4\n",
    "num_quenches = 10\n",
    "num_workers = 7\n",
    "N = 10\n",
    "gamma = 0.1\n",
    "\n",
    "filename = f\"{N}_{gamma}_positions_1.json\"\n",
    "assert os.path.exists(filename), f\"File '{filename}' not found. You need to generate a starting configuration for that value of N, it seems like you don't have one. Try N = 6, gamma = 1 for example.\"\n",
    "\n",
    "# SHORT CONFIG\n",
    "config = SimulationConfig(\n",
    "    N = N,\n",
    "    w = 1.0,\n",
    "    g = gamma,\n",
    "    m = 137.327,  # mass in atomic units\n",
    "    T_mK = 1,     # temperature in mK\n",
    "    dt = 10**dt_exponent,\n",
    "    num_steps = int(10**num_steps_exponent),\n",
    "    damping = False,\n",
    "    damping_parameter = 1.0,\n",
    "    langevin_temperature = False,\n",
    "    lasers=[]  # or a list of Laser instances\n",
    ")\n",
    "\n",
    "total_steps_per_worker = num_quenches * config.num_steps/num_workers\n",
    "print(f\"Total number of simulated timesteps per worker = {(total_steps_per_worker / (10**6)):.3f} million steps per worker. Expected time = {(total_steps_per_worker * 0.000095954544):.3f} s\")\n",
    "\n",
    "config.save_shortform()\n",
    "\n",
    "state = SimulationState(config)\n",
    "state.positions = SimulationIO.load_positions(f\"{N}_{config.g}_positions_1.json\")\n",
    "state.initial_positions = state.positions.copy()\n",
    "state.initialized = True\n",
    "\n",
    "# Use Eddie's user-specific scratch space\n",
    "scratch_base = \"\" #\"/exports/eddie/scratch/s2142953\"\n",
    "\n",
    "quench_trajectory_folder = os.path.join(scratch_base, \"quench_folder\")\n",
    "animation_folder = os.path.join(scratch_base, \"animation_folder\")\n",
    "temperature_folder = os.path.join(scratch_base, \"temperature_folder\")\n",
    "animation_output = \"animation_output\"\n",
    "rolling_average_output = \"rolling_average_output\"\n",
    "\n",
    "# Make sure folders exist\n",
    "os.makedirs(quench_trajectory_folder, exist_ok=True)\n",
    "os.makedirs(animation_folder, exist_ok=True)\n",
    "os.makedirs(temperature_folder, exist_ok=True)\n",
    "os.makedirs(animation_output, exist_ok = True)"
   ]
  },
  {
   "cell_type": "code",
   "execution_count": 18,
   "id": "0b0f0886",
   "metadata": {},
   "outputs": [
    {
     "name": "stdout",
     "output_type": "stream",
     "text": [
      "Beginning to parralel quench\n",
      "Running gamma = 0.54444444\n",
      "Running with isotropy (γ) = 0.5444 for 10.0 μs\n",
      "Running gamma = 0.36666667\n",
      "Running with isotropy (γ) = 0.3667 for 10.0 μs\n",
      "Running gamma = 0.45555556\n",
      "Running with isotropy (γ) = 0.4556 for 10.0 μs\n",
      "Running gamma = 0.63333333\n",
      "Running with isotropy (γ) = 0.6333 for 10.0 μs\n",
      "Running gamma = 0.27777778\n",
      "Running with isotropy (γ) = 0.2778 for 10.0 μs\n",
      "Running gamma = 0.72222222\n",
      "Running with isotropy (γ) = 0.7222 for 10.0 μs\n",
      "Running gamma = 0.10000000\n",
      "Running with isotropy (γ) = 0.1000 for 10.0 μs\n",
      "Running gamma = 0.81111111\n",
      "Running with isotropy (γ) = 0.8111 for 10.0 μs\n",
      "Running gamma = 0.18888889\n",
      "Running with isotropy (γ) = 0.1889 for 10.0 μs\n",
      "Running gamma = 0.90000000\n",
      "Running with isotropy (γ) = 0.9000 for 10.0 μs\n",
      "All quench simulations completed.\n",
      "Time taken to quench = 8.466 s\n"
     ]
    }
   ],
   "source": [
    "start = time()\n",
    "parralel.run_quench_series(\n",
    "    config = config,\n",
    "    loadfile = f\"{N}_{config.g}_positions_1.json\",\n",
    "    output_dir = quench_trajectory_folder,\n",
    "    g_start = 0.1,\n",
    "    g_end = 0.9,\n",
    "    g_step = num_quenches,\n",
    "    num_workers = num_workers\n",
    ")    \n",
    "print(f\"Time taken to quench = {time()-start:.3f} s\")"
   ]
  },
  {
   "cell_type": "code",
   "execution_count": 19,
   "id": "fcfd6f0d",
   "metadata": {},
   "outputs": [],
   "source": [
    "# start = time()\n",
    "# parralel.generate_rolling_average_density_map_images_from_quench_folder(\n",
    "#     traj_folder = quench_trajectory_folder,\n",
    "#     output_dir = rolling_average_output,\n",
    "#     base_config = config,\n",
    "#     time_per_image = 5,\n",
    "#     overlapping_time = 0,\n",
    "#     full_histogram = True,\n",
    "#     animate = True,\n",
    "#     num_workers = num_workers)\n",
    "# print(f\"Time taken to generate rolling images = {time()-start:.3f} s\")"
   ]
  },
  {
   "cell_type": "code",
   "execution_count": 20,
   "id": "8c210d63",
   "metadata": {},
   "outputs": [
    {
     "name": "stdout",
     "output_type": "stream",
     "text": [
      "Beginning to parralel process trajectory files\n",
      "Processing quench_folder/10_0.90000000000000_traj_10000_steps.json\n",
      "Processing quench_folder/10_0.72222222222222_traj_10000_steps.json\n",
      "Processing quench_folder/10_0.81111111111111_traj_10000_steps.json\n",
      "Processing quench_folder/10_0.54444444444444_traj_10000_steps.json\n",
      "Processing quench_folder/10_0.63333333333333_traj_10000_steps.json\n",
      "Processing quench_folder/10_0.27777777777778_traj_10000_steps.json\n",
      "Processing quench_folder/10_0.36666666666667_traj_10000_steps.json\n",
      "Processing quench_folder/10_0.18888888888889_traj_10000_steps.json\n",
      "Processing quench_folder/10_0.45555555555556_traj_10000_steps.json\n",
      "Processing quench_folder/10_0.10000000000000_traj_10000_steps.json\n",
      "Done!\n",
      "Time taken to process images = 6.451 s\n"
     ]
    }
   ],
   "source": [
    "start = time()\n",
    "parralel.generate_density_map_images_from_quench_folder(quench_trajectory_folder, \n",
    "                                                        animation_folder, \n",
    "                                                        config, \n",
    "                                                        num_workers = num_workers,\n",
    "                                                       square = False                                                       )\n",
    "print(f\"Time taken to process images = {time()-start:.3f} s\")"
   ]
  },
  {
   "cell_type": "code",
   "execution_count": 5,
   "id": "d9b1ecaa",
   "metadata": {},
   "outputs": [],
   "source": [
    "# start = time()\n",
    "# AnimationMaker.make_gif_or_mp4_from_images(animation_folder, f\"{animation_output}/--output_animation_dt_1e{dt_exponent}_num_1e{num_steps_exponent}_time_{int(10**(dt_exponent+num_steps_exponent))}us.mp4\", fps=6, reverse = True)\n",
    "# print(f\"Time taken to make animation = {time()-start:.3f} s\")"
   ]
  },
  {
   "cell_type": "code",
   "execution_count": 6,
   "id": "c4cc3041",
   "metadata": {},
   "outputs": [],
   "source": [
    "# start = time()\n",
    "# parralel.generate_temperature_plots_from_quench_folder(quench_trajectory_folder,temperature_folder,config, grainyness=100,num_workers=num_workers)\n",
    "# print(f\"Time taken to make temperature plots {time()-start:.5f} s\")"
   ]
  },
  {
   "cell_type": "code",
   "execution_count": 7,
   "id": "7b6608a9",
   "metadata": {},
   "outputs": [],
   "source": [
    "# start = time()\n",
    "# AnimationMaker.make_gif_or_mp4_from_images(temperature_folder, f\"{animation_output}/--temperature_animation_dt_1e{dt_exponent}_num_1e{num_steps_exponent}_time_{int(10**(dt_exponent+num_steps_exponent))}us.mp4\", fps=6, reverse = False)\n",
    "# print(f\"Time taken to make temperature animation = {time()-start:.3f} s\")"
   ]
  },
  {
   "cell_type": "code",
   "execution_count": 11,
   "id": "e020ede0",
   "metadata": {},
   "outputs": [],
   "source": [
    "config.save_shortform()"
   ]
  },
  {
   "cell_type": "code",
   "execution_count": null,
   "id": "48f8185c",
   "metadata": {},
   "outputs": [],
   "source": []
  }
 ],
 "metadata": {
  "kernelspec": {
   "display_name": "Python 3 (ipykernel)",
   "language": "python",
   "name": "python3"
  },
  "language_info": {
   "codemirror_mode": {
    "name": "ipython",
    "version": 3
   },
   "file_extension": ".py",
   "mimetype": "text/x-python",
   "name": "python",
   "nbconvert_exporter": "python",
   "pygments_lexer": "ipython3",
   "version": "3.9.21"
  }
 },
 "nbformat": 4,
 "nbformat_minor": 5
}
