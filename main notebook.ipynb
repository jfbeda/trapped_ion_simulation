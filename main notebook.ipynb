{
 "cells": [
  {
   "cell_type": "code",
   "execution_count": 1,
   "id": "7d766f86",
   "metadata": {},
   "outputs": [
    {
     "ename": "AssertionError",
     "evalue": "Probably this will stall the computer",
     "output_type": "error",
     "traceback": [
      "\u001b[0;31m---------------------------------------------------------------------------\u001b[0m",
      "\u001b[0;31mAssertionError\u001b[0m                            Traceback (most recent call last)",
      "\u001b[0;32m/var/folders/__/7zt4xtbs0kbf0rdk0zp9kbxm0000gv/T/ipykernel_92566/1344286603.py\u001b[0m in \u001b[0;36m<module>\u001b[0;34m\u001b[0m\n\u001b[1;32m     12\u001b[0m \u001b[0mdt_exponent\u001b[0m \u001b[0;34m=\u001b[0m \u001b[0;34m-\u001b[0m\u001b[0;36m3\u001b[0m\u001b[0;34m\u001b[0m\u001b[0;34m\u001b[0m\u001b[0m\n\u001b[1;32m     13\u001b[0m \u001b[0mnum_steps_exponent\u001b[0m \u001b[0;34m=\u001b[0m \u001b[0;36m6\u001b[0m\u001b[0;34m\u001b[0m\u001b[0;34m\u001b[0m\u001b[0m\n\u001b[0;32m---> 14\u001b[0;31m \u001b[0;32massert\u001b[0m \u001b[0mnum_steps_exponent\u001b[0m \u001b[0;34m<\u001b[0m \u001b[0;36m6\u001b[0m\u001b[0;34m,\u001b[0m \u001b[0;34m\"Probably this will stall the computer\"\u001b[0m\u001b[0;34m\u001b[0m\u001b[0;34m\u001b[0m\u001b[0m\n\u001b[0m\u001b[1;32m     15\u001b[0m \u001b[0mnum_quenches\u001b[0m \u001b[0;34m=\u001b[0m \u001b[0;36m50\u001b[0m\u001b[0;34m\u001b[0m\u001b[0;34m\u001b[0m\u001b[0m\n\u001b[1;32m     16\u001b[0m \u001b[0mnum_workers\u001b[0m \u001b[0;34m=\u001b[0m \u001b[0;36m7\u001b[0m\u001b[0;34m\u001b[0m\u001b[0;34m\u001b[0m\u001b[0m\n",
      "\u001b[0;31mAssertionError\u001b[0m: Probably this will stall the computer"
     ]
    }
   ],
   "source": [
    "import os\n",
    "import numpy as np\n",
    "from simulation_module import SimulationConfig, SimulationState, SimulationRunner, SimulationIO, SimulationVisualizer, AnimationMaker\n",
    "from laser import Laser\n",
    "import parralel\n",
    "from time import time\n",
    "# from parralel_workers import process_single_rolling_average_density_map\n",
    "start0 = time()\n",
    "\n",
    "laser650 = laser650 = Laser(650, [1,0], saturation = 10, detuning = -2 * np.pi * 20 / 2, Gamma = 2 * np.pi * 20)\n",
    "\n",
    "dt_exponent = -3\n",
    "num_steps_exponent = 6\n",
    "assert num_steps_exponent < 6, \"Probably this will stall the computer\"\n",
    "num_quenches = 50\n",
    "num_workers = 7\n",
    "N = 10\n",
    "gamma = 0.1\n",
    "\n",
    "filename = f\"{N}_{gamma}_positions_1.json\"\n",
    "assert os.path.exists(filename), f\"File '{filename}' not found. You need to generate a starting configuration for that value of N, it seems like you don't have one. Try N = 6, gamma = 1 for example.\"\n",
    "\n",
    "# SHORT CONFIG\n",
    "config = SimulationConfig(\n",
    "    N = N,\n",
    "    w = 1.0,\n",
    "    g = gamma,\n",
    "    m = 137.327,  # mass in atomic units\n",
    "    T_mK = 0,     # temperature in mK\n",
    "    dt = 10**dt_exponent,\n",
    "    num_steps = int(10**num_steps_exponent),\n",
    "    damping = False,\n",
    "    damping_parameter = 1.0,\n",
    "    langevin_temperature = False,\n",
    "    lasers=[]  # or a list of Laser instances\n",
    ")\n",
    "\n",
    "total_steps_per_worker = num_quenches * config.num_steps/num_workers\n",
    "print(f\"Total number of simulated timesteps per worker = {(total_steps_per_worker / (10**6)):.3f} million steps per worker. Expected time = {(total_steps_per_worker * 0.000095954544):.3f} s\")\n",
    "\n",
    "config.save_shortform()\n",
    "\n",
    "state = SimulationState(config)\n",
    "state.positions = SimulationIO.load_positions(f\"{N}_{config.g}_positions_1.json\")\n",
    "state.initial_positions = state.positions.copy()\n",
    "state.initialized = True\n",
    "\n",
    "# Use Eddie's user-specific scratch space\n",
    "scratch_base = \"\" #\"/exports/eddie/scratch/s2142953\"\n",
    "\n",
    "quench_trajectory_folder = os.path.join(scratch_base, \"quench_folder\")\n",
    "animation_folder = os.path.join(scratch_base, \"animation_folder\")\n",
    "temperature_folder = os.path.join(scratch_base, \"temperature_folder\")\n",
    "animation_output = \"animation_output\"\n",
    "rolling_average_output = \"rolling_average_output\"\n",
    "\n",
    "# Make sure folders exist\n",
    "os.makedirs(quench_trajectory_folder, exist_ok=True)\n",
    "os.makedirs(animation_folder, exist_ok=True)\n",
    "os.makedirs(temperature_folder, exist_ok=True)\n",
    "os.makedirs(animation_output, exist_ok = True)"
   ]
  },
  {
   "cell_type": "code",
   "execution_count": null,
   "id": "0b0f0886",
   "metadata": {},
   "outputs": [],
   "source": [
    "start = time()\n",
    "parralel.run_quench_series(\n",
    "    config = config,\n",
    "    loadfile = f\"{N}_{config.g}_positions_1.json\",\n",
    "    output_dir = quench_trajectory_folder,\n",
    "    g_start = 0.1,\n",
    "    g_end = 0.6,\n",
    "    g_step = num_quenches,\n",
    "    num_workers = num_workers\n",
    ")    \n",
    "print(f\"Time taken to quench = {time()-start:.3f} s\")"
   ]
  },
  {
   "cell_type": "code",
   "execution_count": null,
   "id": "fcfd6f0d",
   "metadata": {},
   "outputs": [],
   "source": [
    "# start = time()\n",
    "# parralel.generate_rolling_average_density_map_images_from_quench_folder(\n",
    "#     traj_folder = quench_trajectory_folder,\n",
    "#     output_dir = rolling_average_output,\n",
    "#     base_config = config,\n",
    "#     time_per_image = 5,\n",
    "#     overlapping_time = 0,\n",
    "#     full_histogram = True,\n",
    "#     animate = True,\n",
    "#     num_workers = num_workers)\n",
    "# print(f\"Time taken to generate rolling images = {time()-start:.3f} s\")"
   ]
  },
  {
   "cell_type": "code",
   "execution_count": null,
   "id": "8c210d63",
   "metadata": {},
   "outputs": [],
   "source": [
    "start = time()\n",
    "parralel.generate_density_map_images_from_quench_folder(quench_trajectory_folder, \n",
    "                                                        animation_folder, \n",
    "                                                        config, \n",
    "                                                        num_workers = num_workers,\n",
    "                                                       square = False                                                       )\n",
    "print(f\"Time taken to process images = {time()-start:.3f} s\")"
   ]
  },
  {
   "cell_type": "code",
   "execution_count": null,
   "id": "dbf1c450",
   "metadata": {},
   "outputs": [],
   "source": [
    "import shutil\n",
    "\n",
    "# List of folder names to remove\n",
    "folders_to_delete = [\"animation_output\", \"animation_folder\", \"quench_folder\", \"temperature_folder\"]  \n",
    "\n",
    "for folder in folders_to_delete:\n",
    "    if os.path.exists(folder) and os.path.isdir(folder):\n",
    "        shutil.rmtree(folder)\n",
    "        print(f\"Deleted folder: {folder}\")\n",
    "    else:\n",
    "        print(f\"Folder not found or not a directory: {folder}\")\n"
   ]
  },
  {
   "cell_type": "code",
   "execution_count": null,
   "id": "d9b1ecaa",
   "metadata": {},
   "outputs": [],
   "source": [
    "# start = time()\n",
    "# AnimationMaker.make_gif_or_mp4_from_images(animation_folder, f\"{animation_output}/--output_animation_dt_1e{dt_exponent}_num_1e{num_steps_exponent}_time_{int(10**(dt_exponent+num_steps_exponent))}us.mp4\", fps=6, reverse = True)\n",
    "# print(f\"Time taken to make animation = {time()-start:.3f} s\")"
   ]
  },
  {
   "cell_type": "code",
   "execution_count": 6,
   "id": "c4cc3041",
   "metadata": {},
   "outputs": [],
   "source": [
    "# start = time()\n",
    "# parralel.generate_temperature_plots_from_quench_folder(quench_trajectory_folder,temperature_folder,config, grainyness=100,num_workers=num_workers)\n",
    "# print(f\"Time taken to make temperature plots {time()-start:.5f} s\")"
   ]
  },
  {
   "cell_type": "code",
   "execution_count": 7,
   "id": "7b6608a9",
   "metadata": {},
   "outputs": [],
   "source": [
    "# start = time()\n",
    "# AnimationMaker.make_gif_or_mp4_from_images(temperature_folder, f\"{animation_output}/--temperature_animation_dt_1e{dt_exponent}_num_1e{num_steps_exponent}_time_{int(10**(dt_exponent+num_steps_exponent))}us.mp4\", fps=6, reverse = False)\n",
    "# print(f\"Time taken to make temperature animation = {time()-start:.3f} s\")"
   ]
  },
  {
   "cell_type": "code",
   "execution_count": 11,
   "id": "e020ede0",
   "metadata": {},
   "outputs": [],
   "source": [
    "config.save_shortform()"
   ]
  },
  {
   "cell_type": "code",
   "execution_count": null,
   "id": "48f8185c",
   "metadata": {},
   "outputs": [],
   "source": []
  }
 ],
 "metadata": {
  "kernelspec": {
   "display_name": "Python 3 (ipykernel)",
   "language": "python",
   "name": "python3"
  },
  "language_info": {
   "codemirror_mode": {
    "name": "ipython",
    "version": 3
   },
   "file_extension": ".py",
   "mimetype": "text/x-python",
   "name": "python",
   "nbconvert_exporter": "python",
   "pygments_lexer": "ipython3",
   "version": "3.9.21"
  }
 },
 "nbformat": 4,
 "nbformat_minor": 5
}
