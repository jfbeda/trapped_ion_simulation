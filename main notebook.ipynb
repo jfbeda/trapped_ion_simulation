{
 "cells": [
  {
   "cell_type": "code",
   "execution_count": 1,
   "id": "7d766f86",
   "metadata": {},
   "outputs": [
    {
     "name": "stdout",
     "output_type": "stream",
     "text": [
      "Total number of simulated ion-timesteps per worker = 140.000 million ion-steps per worker. Expected time = 2238.939 s\n"
     ]
    }
   ],
   "source": [
    "import os\n",
    "import numpy as np\n",
    "from simulation_module import SimulationConfig, SimulationState, SimulationRunner, SimulationIO, SimulationVisualizer, AnimationMaker\n",
    "from laser import Laser\n",
    "import parralel\n",
    "from time import time\n",
    "# from parralel_workers import process_single_rolling_average_density_map\n",
    "start0 = time()\n",
    "\n",
    "laser650 = Laser(650, [1,0], saturation = 1, detuning = -2 * np.pi * 20 / 2, Gamma = 2 * np.pi * 20)\n",
    "laser493 = Laser(493, [1,0], saturation = 1, detuning = -2 * np.pi * 20 / 2, Gamma = 2 * np.pi * 20)\n",
    "\n",
    "\n",
    "dt_exponent = -3\n",
    "num_steps_exponent = 6\n",
    "assert num_steps_exponent < 7, \"Probably this will stall the computer\"\n",
    "num_quenches = 20\n",
    "num_workers = 4\n",
    "N = 28\n",
    "gamma = 0.05\n",
    "\n",
    "input_path = \"input\"\n",
    "output_path = \"output\"\n",
    "filename = os.path.join(input_path, f\"{N}_{gamma}_positions_defect.json\")\n",
    "\n",
    "assert os.path.exists(filename), f\"File '{filename}' not found. You need to generate a starting configuration for that value of N, it seems like you don't have one. Try N = 6, gamma = 1 for example.\"\n",
    "\n",
    "# SHORT CONFIG\n",
    "config = SimulationConfig(\n",
    "    N = N,\n",
    "    w = 1.0,\n",
    "    g = gamma,\n",
    "    m = 137.327,  # mass in atomic units\n",
    "    T_mK = 0,     # temperature in mK\n",
    "    dt = 10**dt_exponent,\n",
    "    num_steps = int(1*10**num_steps_exponent),\n",
    "    damping = False,\n",
    "    damping_parameter = 1.0,\n",
    "    langevin_temperature = False,\n",
    "    lasers=[laser650],  # or a list of Laser instances\n",
    "    input_path = input_path,\n",
    "    output_path = output_path\n",
    ")\n",
    "\n",
    "total_steps_per_worker = num_quenches * config.num_steps/num_workers\n",
    "print(f\"Total number of simulated ion-timesteps per worker = {(config.N * total_steps_per_worker / (10**6)):.3f} million ion-steps per worker. Expected time = {(config.N * total_steps_per_worker * 0.000095954544 / 6):.3f} s\")\n",
    "\n",
    "config.save_shortform()\n",
    "\n",
    "state = SimulationState(config)\n",
    "\n",
    "IO = SimulationIO()\n",
    "state.positions = IO.load_positions(filename)\n",
    "state.initial_positions = state.positions.copy()\n",
    "state.initialized = True\n",
    "\n",
    "# Use Eddie's user-specific scratch space\n",
    "scratch_base = \"\" #\"/exports/eddie/scratch/s2142953\"\n",
    "\n",
    "quench_trajectory_folder = \"quench_folder\"\n",
    "animation_folder = \"animation_folder\"\n",
    "temperature_folder = \"temperature_folder\"\n",
    "animation_output = \"animation_output\"\n",
    "rolling_average_output = \"rolling_average_output\""
   ]
  },
  {
   "cell_type": "code",
   "execution_count": null,
   "id": "0b0f0886",
   "metadata": {},
   "outputs": [
    {
     "name": "stdout",
     "output_type": "stream",
     "text": [
      "Beginning to parralel quench\n"
     ]
    }
   ],
   "source": [
    "start = time()\n",
    "parralel.run_quench_series(\n",
    "    config = config,\n",
    "    loadfile = f\"{N}_{config.g}_positions_1.json\",\n",
    "    output_dir = quench_trajectory_folder,\n",
    "    g_start = 0.1,\n",
    "    g_end = 0.2,\n",
    "    g_step = num_quenches,\n",
    "    num_workers = num_workers\n",
    ")    \n",
    "print(f\"Time taken to quench = {time()-start:.3f} s\")"
   ]
  },
  {
   "cell_type": "code",
   "execution_count": null,
   "id": "fcfd6f0d",
   "metadata": {},
   "outputs": [],
   "source": [
    "start = time()\n",
    "parralel.generate_rolling_average_density_map_images_from_quench_folder(\n",
    "    traj_folder = quench_trajectory_folder,\n",
    "    output_dir = rolling_average_output,\n",
    "    base_config = config,\n",
    "    time_per_image = 100,\n",
    "    overlapping_time = 0,\n",
    "    full_histogram = True,\n",
    "    animate = True,\n",
    "    num_workers = num_workers)\n",
    "print(f\"Time taken to generate rolling images = {time()-start:.3f} s\")"
   ]
  },
  {
   "cell_type": "code",
   "execution_count": null,
   "id": "8c210d63",
   "metadata": {},
   "outputs": [],
   "source": [
    "start = time()\n",
    "parralel.generate_density_map_images_from_quench_folder(quench_trajectory_folder, \n",
    "                                                        animation_folder, \n",
    "                                                        config, \n",
    "                                                        num_workers = num_workers,\n",
    "                                                       square = False                                                       )\n",
    "print(f\"Time taken to process images = {time()-start:.3f} s\")"
   ]
  },
  {
   "cell_type": "code",
   "execution_count": null,
   "id": "4d3bb82a",
   "metadata": {},
   "outputs": [],
   "source": [
    "###########################################################################################\n",
    "###########################################################################################\n",
    "###########################################################################################\n",
    "###########################################################################################\n",
    "###########################################################################################\n",
    "###########################################################################################\n",
    "###########################################################################################"
   ]
  },
  {
   "cell_type": "code",
   "execution_count": 1,
   "id": "dbf1c450",
   "metadata": {},
   "outputs": [
    {
     "name": "stdout",
     "output_type": "stream",
     "text": [
      "Folder not found or not a directory: animation_output\n",
      "Folder not found or not a directory: animation_folder\n",
      "Folder not found or not a directory: quench_folder\n",
      "Folder not found or not a directory: temperature_folder\n",
      "Folder not found or not a directory: rolling_average_output\n",
      "Deleted folder: output\n"
     ]
    }
   ],
   "source": [
    "# import shutil\n",
    "# import os\n",
    "\n",
    "# # List of folder names to remove\n",
    "# folders_to_delete = [output_path]  \n",
    "\n",
    "# for folder in folders_to_delete:\n",
    "#     if os.path.exists(folder) and os.path.isdir(folder):\n",
    "#         shutil.rmtree(folder)\n",
    "#         print(f\"Deleted folder: {folder}\")\n",
    "#     else:\n",
    "#         print(f\"Folder not found or not a directory: {folder}\")"
   ]
  },
  {
   "cell_type": "code",
   "execution_count": 4,
   "id": "d9b1ecaa",
   "metadata": {},
   "outputs": [
    {
     "name": "stderr",
     "output_type": "stream",
     "text": [
      "IMAGEIO FFMPEG_WRITER WARNING: input image is not divisible by macro_block_size=16, resizing from (600, 600) to (608, 608) to ensure video compatibility with most codecs and players. To prevent resizing, make your input image divisible by the macro_block_size or set the macro_block_size to 1 (risking incompatibility).\n"
     ]
    },
    {
     "name": "stdout",
     "output_type": "stream",
     "text": [
      "MP4 saved via imageio: output/animation_output/--output_animation_dt_1e-3_num_1e5_time_100us.mp4\n",
      "Time taken to make animation = 0.136 s\n"
     ]
    }
   ],
   "source": [
    "start = time()\n",
    "os.makedirs(os.path.join(output_path,animation_output), exist_ok = True)\n",
    "AnimationMaker.make_gif_or_mp4_from_images(os.path.join(output_path,animation_folder), f\"{output_path}/{animation_output}/--output_animation_dt_1e{dt_exponent}_num_1e{num_steps_exponent}_time_{int(10**(dt_exponent+num_steps_exponent))}us.mp4\", fps=6, reverse = True)\n",
    "print(f\"Time taken to make animation = {time()-start:.3f} s\")"
   ]
  },
  {
   "cell_type": "code",
   "execution_count": null,
   "id": "c4cc3041",
   "metadata": {},
   "outputs": [],
   "source": [
    "start = time()\n",
    "parralel.generate_temperature_plots_from_quench_folder(quench_trajectory_folder,temperature_folder,config, grainyness=100,num_workers=num_workers)\n",
    "print(f\"Time taken to make temperature plots {time()-start:.5f} s\")"
   ]
  },
  {
   "cell_type": "code",
   "execution_count": 7,
   "id": "48f8185c",
   "metadata": {},
   "outputs": [],
   "source": [
    "# start = time()\n",
    "# os.makedirs(os.path.join(output_path,animation_output), exist_ok = True)\n",
    "# AnimationMaker.make_gif_or_mp4_from_images(os.path.join(output_path,temperature_folder), f\"{output_path}/{animation_output}/--temperature_output_animation_dt_1e{dt_exponent}_num_1e{num_steps_exponent}_time_{int(10**(dt_exponent+num_steps_exponent))}us.mp4\", fps=6, reverse = True)\n",
    "# print(f\"Time taken to make animation = {time()-start:.3f} s\")"
   ]
  },
  {
   "cell_type": "code",
   "execution_count": null,
   "id": "fe73745b",
   "metadata": {},
   "outputs": [],
   "source": []
  }
 ],
 "metadata": {
  "kernelspec": {
   "display_name": "Python 3 (ipykernel)",
   "language": "python",
   "name": "python3"
  },
  "language_info": {
   "codemirror_mode": {
    "name": "ipython",
    "version": 3
   },
   "file_extension": ".py",
   "mimetype": "text/x-python",
   "name": "python",
   "nbconvert_exporter": "python",
   "pygments_lexer": "ipython3",
   "version": "3.9.21"
  }
 },
 "nbformat": 4,
 "nbformat_minor": 5
}
