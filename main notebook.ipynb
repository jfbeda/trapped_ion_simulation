{
 "cells": [
  {
   "cell_type": "code",
   "execution_count": 1,
   "id": "d070ec4c",
   "metadata": {},
   "outputs": [],
   "source": [
    "# Files:\n",
    "# natural_units.py\n",
    "# quench_worker.py\n",
    "# simulation_module.py\n",
    "# utility_functions.py\n",
    "# laser.py\n",
    "import os\n",
    "import numpy as np\n",
    "from simulation_module import SimulationConfig, SimulationState, SimulationRunner, SimulationIO, SimulationVisualizer, AnimationMaker\n",
    "from quench_worker import run_single_quench\n",
    "from laser import Laser"
   ]
  },
  {
   "cell_type": "code",
   "execution_count": 2,
   "id": "c2542b42",
   "metadata": {},
   "outputs": [],
   "source": [
    "laser650 = laser650 = Laser(650, [1,0], saturation = 10, detuning = -2 * np.pi * 20 / 2, Gamma = 2 * np.pi * 20)"
   ]
  },
  {
   "cell_type": "code",
   "execution_count": 3,
   "id": "8be2370a",
   "metadata": {},
   "outputs": [],
   "source": [
    "config = SimulationConfig(\n",
    "    N = 6,\n",
    "    w = 1.0,\n",
    "    g = 1.0,\n",
    "    m = 137.327,  # mass in atomic units\n",
    "    T = 0.,     # temperature in mK\n",
    "    dt = 1e-3,\n",
    "    num_steps = int(1e6),\n",
    "    damping = False,\n",
    "    damping_parameter = 1.0,\n",
    "    langevin_temperature = False,\n",
    "    lasers=[laser650]  # or a list of Laser instances\n",
    ")"
   ]
  },
  {
   "cell_type": "code",
   "execution_count": 4,
   "id": "13f11487",
   "metadata": {},
   "outputs": [],
   "source": [
    "state = SimulationState(config)\n",
    "state.positions = SimulationIO.load_positions(\"6_1_positions_1.json\")\n",
    "state.initial_positions = state.positions.copy()\n",
    "state.initialized = True"
   ]
  },
  {
   "cell_type": "code",
   "execution_count": 5,
   "id": "f6e2ca53",
   "metadata": {},
   "outputs": [],
   "source": [
    "from dataclasses import asdict\n",
    "from concurrent.futures import ProcessPoolExecutor\n",
    "from quench_worker import run_single_quench\n",
    "\n",
    "def run_quench_series_parallel(config, loadfile, output_dir,\n",
    "                               g_start, g_end, g_step, num_workers=4):\n",
    "    os.makedirs(output_dir, exist_ok=True)\n",
    "    gammas = np.linspace(g_start, g_end, g_step)\n",
    "    base_config_dict = asdict(config)\n",
    "    print(\"Beginning to parralel quench\")\n",
    "    with ProcessPoolExecutor(max_workers=num_workers) as executor:\n",
    "        futures = []\n",
    "        for gamma in gammas:\n",
    "            futures.append(executor.submit(run_single_quench, gamma, base_config_dict, loadfile, output_dir))\n",
    "        for f in futures:\n",
    "            f.result()\n",
    "\n",
    "    print(\"All quench simulations completed.\")"
   ]
  },
  {
   "cell_type": "code",
   "execution_count": 6,
   "id": "841f35b5",
   "metadata": {},
   "outputs": [],
   "source": [
    "quench_trajectory_folder = \"3quench_data\"\n",
    "animation_folder = \"3animation\"\n",
    "temperature_folder = \"3temperature\""
   ]
  },
  {
   "cell_type": "code",
   "execution_count": 11,
   "id": "06c11206",
   "metadata": {},
   "outputs": [
    {
     "name": "stdout",
     "output_type": "stream",
     "text": [
      "Beginning to parralel quench\n",
      "Skipping gamma = 0.85755102, file exists.\n",
      "Skipping gamma = 0.83795918, file exists.\n",
      "Skipping gamma = 0.83714286, file exists.\n",
      "Skipping gamma = 0.83551020, file exists.\n",
      "Skipping gamma = 0.83387755, file exists.\n",
      "Skipping gamma = 0.83306122, file exists.\n",
      "Skipping gamma = 0.83224490, file exists.\n",
      "Skipping gamma = 0.83061224, file exists.\n",
      "Skipping gamma = 0.82897959, file exists.\n",
      "Skipping gamma = 0.82816327, file exists.\n",
      "Skipping gamma = 0.82734694, file exists.\n",
      "Skipping gamma = 0.82571429, file exists.\n",
      "Skipping gamma = 0.82408163, file exists.\n",
      "Skipping gamma = 0.82244898, file exists.\n",
      "Skipping gamma = 0.82081633, file exists.\n",
      "Skipping gamma = 0.86000000, file exists.\n",
      "Running gamma = 0.84857143\n",
      "Running with isotropy (γ) = 0.8486 for 1000.0 μs\n",
      "Skipping gamma = 0.85591837, file exists.\n",
      "Skipping gamma = 0.84775510, file exists.\n",
      "Skipping gamma = 0.84693878, file exists.\n",
      "Skipping gamma = 0.84612245, file exists.\n",
      "Skipping gamma = 0.84530612, file exists.\n",
      "Skipping gamma = 0.84448980, file exists.\n",
      "Skipping gamma = 0.84367347, file exists.\n",
      "Skipping gamma = 0.84285714, file exists.\n",
      "Skipping gamma = 0.84204082, file exists.\n",
      "Skipping gamma = 0.84122449, file exists.\n",
      "Skipping gamma = 0.84040816, file exists.\n",
      "Skipping gamma = 0.83959184, file exists.\n",
      "Skipping gamma = 0.83877551, file exists.\n",
      "Skipping gamma = 0.83632653, file exists.\n",
      "Skipping gamma = 0.83469388, file exists.\n",
      "Skipping gamma = 0.83142857, file exists.\n",
      "Skipping gamma = 0.82979592, file exists.\n",
      "Skipping gamma = 0.82653061, file exists.\n",
      "Skipping gamma = 0.82489796, file exists.\n",
      "Skipping gamma = 0.82326531, file exists.\n",
      "Skipping gamma = 0.82163265, file exists.\n",
      "Skipping gamma = 0.82000000, file exists.\n",
      "Skipping gamma = 0.85673469, file exists.\n",
      "Running gamma = 0.84938776\n",
      "Running with isotropy (γ) = 0.8494 for 1000.0 μs\n",
      "Skipping gamma = 0.85836735, file exists.\n",
      "Skipping gamma = 0.85428571, file exists.\n",
      "Skipping gamma = 0.85346939, file exists.\n",
      "Skipping gamma = 0.85265306, file exists.\n",
      "Skipping gamma = 0.85183673, file exists.\n",
      "Running gamma = 0.85102041\n",
      "Running with isotropy (γ) = 0.8510 for 1000.0 μs\n",
      "Skipping gamma = 0.85918367, file exists.\n",
      "Running gamma = 0.85020408\n",
      "Running with isotropy (γ) = 0.8502 for 1000.0 μs\n",
      "Skipping gamma = 0.85510204, file exists.\n",
      "All quench simulations completed.\n"
     ]
    }
   ],
   "source": [
    "run_quench_series_parallel(\n",
    "    config = config,\n",
    "    loadfile = \"6_1_positions_1.json\",\n",
    "    output_dir = quench_trajectory_folder,\n",
    "    g_start = 0.86,\n",
    "    g_end = 0.82,\n",
    "    g_step = 50,\n",
    "    num_workers = 7\n",
    ")"
   ]
  },
  {
   "cell_type": "code",
   "execution_count": null,
   "id": "806b5e6e",
   "metadata": {},
   "outputs": [
    {
     "name": "stdout",
     "output_type": "stream",
     "text": [
      "Processing trajectory files\n",
      "Processing 3quench_data/6_0.86000000000000_traj_1000000_steps.json\n",
      "Processing 3quench_data/6_0.85918367346939_traj_1000000_steps.json\n",
      "Processing 3quench_data/6_0.85836734693878_traj_1000000_steps.json\n",
      "Processing 3quench_data/6_0.85755102040816_traj_1000000_steps.json\n",
      "Processing 3quench_data/6_0.85673469387755_traj_1000000_steps.json\n",
      "Processing 3quench_data/6_0.85591836734694_traj_1000000_steps.json\n",
      "Processing 3quench_data/6_0.85510204081633_traj_1000000_steps.json\n",
      "Processing 3quench_data/6_0.85428571428571_traj_1000000_steps.json\n"
     ]
    }
   ],
   "source": [
    "# Step 1: Convert trajectories to images\n",
    "AnimationMaker.generate_density_map_images_from_quench_folder(quench_trajectory_folder, animation_folder, config)\n",
    "\n",
    "# Step 2: Turn into animation\n",
    "AnimationMaker.make_gif_or_mp4_from_images(animation_folder, \"-quench_animation.mp4\", fps=6)"
   ]
  },
  {
   "cell_type": "code",
   "execution_count": 12,
   "id": "4952145a",
   "metadata": {},
   "outputs": [
    {
     "name": "stdout",
     "output_type": "stream",
     "text": [
      "✅ All temperature plots generated.\n"
     ]
    }
   ],
   "source": [
    "AnimationMaker.generate_temperature_plots_from_quench_folder(\n",
    "    traj_folder = quench_trajectory_folder,\n",
    "    output_dir = temperature_folder,\n",
    "    base_config = config,\n",
    "    grainyness= 100)"
   ]
  },
  {
   "cell_type": "code",
   "execution_count": null,
   "id": "fb131abf",
   "metadata": {},
   "outputs": [],
   "source": [
    "# # Step 1: Convert trajectories to images\n",
    "# AnimationMaker.generate_density_map_images_from_quench_folder(quench_trajectory_folder, animation_folder, config)\n",
    "\n",
    "# Step 2: Turn into animation\n",
    "AnimationMaker.make_gif_or_mp4_from_images(temperature_folder, \"-temperature_animation.mp4\", fps=6)"
   ]
  },
  {
   "cell_type": "code",
   "execution_count": null,
   "id": "b556eea7",
   "metadata": {},
   "outputs": [],
   "source": []
  }
 ],
 "metadata": {
  "kernelspec": {
   "display_name": "Python 3 (ipykernel)",
   "language": "python",
   "name": "python3"
  },
  "language_info": {
   "codemirror_mode": {
    "name": "ipython",
    "version": 3
   },
   "file_extension": ".py",
   "mimetype": "text/x-python",
   "name": "python",
   "nbconvert_exporter": "python",
   "pygments_lexer": "ipython3",
   "version": "3.9.21"
  }
 },
 "nbformat": 4,
 "nbformat_minor": 5
}
